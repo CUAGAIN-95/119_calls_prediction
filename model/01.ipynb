{
 "cells": [
  {
   "cell_type": "markdown",
   "metadata": {},
   "source": [
    "#### 큰 흐름\n",
    "- 라이브러리 로드\n",
    "- 데이터 확인\n",
    "- 모델 학습\n",
    "- 제출 파일\n",
    "\n",
    "---"
   ]
  },
  {
   "cell_type": "markdown",
   "metadata": {},
   "source": [
    "##### 라이브러리 로드"
   ]
  },
  {
   "cell_type": "code",
   "execution_count": 1,
   "metadata": {},
   "outputs": [
    {
     "name": "stdout",
     "output_type": "stream",
     "text": [
      "(3468, 3)\n",
      "[0]\tvalidation_0-mape:0.15301\n",
      "[1]\tvalidation_0-mape:0.14597\n",
      "[2]\tvalidation_0-mape:0.14956\n",
      "[3]\tvalidation_0-mape:0.15510\n",
      "[4]\tvalidation_0-mape:0.16032\n",
      "[5]\tvalidation_0-mape:0.16483\n",
      "[6]\tvalidation_0-mape:0.16841\n",
      "[7]\tvalidation_0-mape:0.17066\n",
      "[8]\tvalidation_0-mape:0.17278\n",
      "[9]\tvalidation_0-mape:0.17431\n",
      "[10]\tvalidation_0-mape:0.17557\n",
      "[11]\tvalidation_0-mape:0.17643\n",
      "[12]\tvalidation_0-mape:0.17738\n",
      "[13]\tvalidation_0-mape:0.17783\n",
      "[14]\tvalidation_0-mape:0.17828\n",
      "[15]\tvalidation_0-mape:0.17854\n",
      "[16]\tvalidation_0-mape:0.17876\n",
      "[17]\tvalidation_0-mape:0.17888\n",
      "[18]\tvalidation_0-mape:0.17916\n",
      "[19]\tvalidation_0-mape:0.17928\n",
      "[20]\tvalidation_0-mape:0.17934\n"
     ]
    }
   ],
   "source": [
    "# !pip install scikit-learn xgboost\n",
    "\n",
    "import numpy as np\n",
    "import pandas as pd\n",
    "from datetime import datetime, timedelta\n",
    "from sklearn.model_selection import train_test_split\n",
    "from xgboost.sklearn import XGBRegressor\n",
    "from sklearn.metrics import mean_absolute_percentage_error\n",
    "\n",
    "# df = data frame\n",
    "df = pd.read_csv(\"data/train.csv\")\n",
    "# df\n",
    "# df[\"접수경로\"].value_counts()\n",
    "\n",
    "df[\"dt\"] = df[\"신고접수일시\"].apply(lambda x : datetime.strptime(x, \"%Y%m%d_%H%M\"))\n",
    "df[\"_dt\"] = df[\"dt\"] + timedelta(hours=6)\n",
    "df[\"_date\"] = df._dt.dt.date.astype(str)\n",
    "df[\"_hour\"] = df._dt.dt.hour\n",
    "df = df[[\"_date\", \"_hour\", \"신고접수번호\"]].groupby([\"_date\", \"_hour\"]).count().reset_index()\n",
    "\n",
    "night = df[(df[\"_hour\"] >= 0) & (df[\"_hour\"] < 15)]\n",
    "night = night[[\"_date\", \"신고접수번호\"]].groupby(\"_date\").sum()\n",
    "day = df[(df[\"_hour\"] >= 15) & (df[\"_hour\"] < 24)]\n",
    "day = day[[\"_date\", \"신고접수번호\"]].groupby(\"_date\").sum()\n",
    "\n",
    "data = pd.concat([night, day], axis=\"columns\")\n",
    "data = data.reset_index()\n",
    "# data\n",
    "data.columns = [\"date\", \"night_y\", \"day_y\"]\n",
    "# data\n",
    "drop_date = data.dropna()\n",
    "print(drop_date.shape)\n",
    "# check = df[[\"date\", \"y\"]].groupby(\"date\").count()\n",
    "# print(check)\n",
    "# drop_dates = list(check[check[\"y\"]] <= 24)\n",
    "\n",
    "train, val = train_test_split(drop_date, train_size=0.8, shuffle=False)\n",
    "\n",
    "X_train = train[[\"date\", \"night_y\"]]\n",
    "y_train = train[[\"date\", \"day_y\"]]\n",
    "X_val = val[[\"date\", \"night_y\"]]\n",
    "y_val = val[[\"date\", \"day_y\"]]\n",
    "\n",
    "xgb_params = {\n",
    "    # \"n_estimator\" : 100,\n",
    "    \"max_depth\" : 7,\n",
    "    \"eval_metric\" : \"mape\",\n",
    "    \"early_stopping_rounds\" : 20,\n",
    "    \"random_state\": 514\n",
    "}\n",
    "\n",
    "model = XGBRegressor(**xgb_params)\n",
    "eval_set = [(X_val['night_y'], y_val['day_y'])]\n",
    "\n",
    "model.fit(X=X_train['night_y'],\n",
    "          y=y_train['day_y'],\n",
    "          eval_set=eval_set,\n",
    "          verbose=True)\n",
    "prediction = model.predict(X_val['night_y'])\n",
    "\n",
    "mape = mean_absolute_percentage_error(y_val['day_y'], prediction)\n",
    "\n",
    "test_df = pd.read_csv(\"data/test.csv\")\n",
    "test_df[\"dt\"] = test_df[\"신고접수일시\"].apply(lambda x : datetime.strptime(x, \"%Y%m%d_%H%M\"))\n",
    "test_df[\"_dt\"] = test_df[\"dt\"] + timedelta(hours=6)\n",
    "test_df[\"_date\"] = test_df._dt.dt.date.astype(str)\n",
    "test_df[\"_hour\"] = test_df._dt.dt.hour\n",
    "test_df = test_df[[\"_date\", \"_hour\", \"신고접수번호\"]].groupby([\"_date\", \"_hour\"]).count().reset_index()\n",
    "target_df = test_df[[\"_date\", \"신고접수번호\"]].groupby(\"_date\").sum()\n",
    "target_df = target_df.reset_index()\n",
    "target_df = target_df.rename(columns={\"index\": \"date\"})\n",
    "target_df.columns = ['date', 'night_y']\n",
    "# target_df\n",
    "\n",
    "prediction_result = model.predict(target_df['night_y'])\n",
    "\n",
    "submission = pd.read_csv('./data/sample_submission.csv')\n",
    "submission[\"y\"] = prediction_result.reshape(-1)\n",
    "submission.to_csv(\"submission.csv\", index=False)"
   ]
  },
  {
   "cell_type": "code",
   "execution_count": null,
   "metadata": {},
   "outputs": [],
   "source": []
  }
 ],
 "metadata": {
  "kernelspec": {
   "display_name": "yeardream",
   "language": "python",
   "name": "python3"
  },
  "language_info": {
   "codemirror_mode": {
    "name": "ipython",
    "version": 3
   },
   "file_extension": ".py",
   "mimetype": "text/x-python",
   "name": "python",
   "nbconvert_exporter": "python",
   "pygments_lexer": "ipython3",
   "version": "3.9.19"
  }
 },
 "nbformat": 4,
 "nbformat_minor": 2
}
