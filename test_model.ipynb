{
 "cells": [
  {
   "cell_type": "markdown",
   "metadata": {},
   "source": [
    "### 모델 테스트용 코드"
   ]
  },
  {
   "cell_type": "code",
   "execution_count": null,
   "metadata": {},
   "outputs": [],
   "source": [
    "from sklearn.metrics import mean_absolute_error, mean_squared_error, r2_score\n",
    "import matplotlib.pyplot as plt\n",
    "\n",
    "# {}안에 본인의 변수명에 맞게 입력하세요\n",
    "train_predictions = {모델 명}.predict({학습에 사용한 train데이터의 feature 변수명})\n",
    "\n",
    "# train_label <- train데이터 정답 변수명\n",
    "bxm_mae = mean_absolute_error(train_label, train_predictions)\n",
    "bxm_mse = mean_squared_error(train_label, train_predictions)\n",
    "bxm_r2 = r2_score(train_label, train_predictions)\n",
    "\n",
    "print(\"Mean Absolute Error:\", bxm_mae) # MAE 작을 수록 좋음\n",
    "print(\"Mean Squared Error:\", bxm_mse) # MSE 작을 수록 좋음\n",
    "print(\"R-squared:\", bxm_r2) # r2값이 1에 가까울 수록 좋음 (overfitting 문제가 있을 수 있음)\n",
    "\n",
    "# Plot predicted vs. true values\n",
    "plt.figure(figsize=(10, 6))\n",
    "plt.scatter(train_label, train_predictions, alpha=0.5)\n",
    "plt.xlabel('True Values')\n",
    "plt.ylabel('Predictions')\n",
    "plt.title('True vs. Predicted Values')\n",
    "plt.show()"
   ]
  }
 ],
 "metadata": {
  "kernelspec": {
   "display_name": "yeardream",
   "language": "python",
   "name": "python3"
  },
  "language_info": {
   "name": "python",
   "version": "3.9.19"
  }
 },
 "nbformat": 4,
 "nbformat_minor": 2
}
